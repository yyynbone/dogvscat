{
  "nbformat": 4,
  "nbformat_minor": 0,
  "metadata": {
    "colab": {
      "name": "Dropout and Batch Normalization in 2D cnn dogvscat.ipynb",
      "provenance": [],
      "toc_visible": true,
      "authorship_tag": "ABX9TyOOn4zdP5n1vpP63BU+drnj",
      "include_colab_link": true
    },
    "kernelspec": {
      "name": "python3",
      "display_name": "Python 3"
    },
    "accelerator": "TPU"
  },
  "cells": [
    {
      "cell_type": "markdown",
      "metadata": {
        "id": "view-in-github",
        "colab_type": "text"
      },
      "source": [
        "<a href=\"https://colab.research.google.com/github/yyynbone/dogvscat/blob/master/Dropout_and_Batch_Normalization_in_2D_cnn_dogvscat.ipynb\" target=\"_parent\"><img src=\"https://colab.research.google.com/assets/colab-badge.svg\" alt=\"Open In Colab\"/></a>"
      ]
    },
    {
      "cell_type": "markdown",
      "metadata": {
        "id": "LeDpDloIlXus",
        "colab_type": "text"
      },
      "source": [
        "## sign in kaggle, and download data "
      ]
    },
    {
      "cell_type": "code",
      "metadata": {
        "id": "7iKU_ZjPWC4K",
        "colab_type": "code",
        "outputId": "505a3225-0988-4e60-ff24-6e0d935a3932",
        "colab": {
          "base_uri": "https://localhost:8080/",
          "height": 625
        }
      },
      "source": [
        "!pip install tensorflow-gpu"
      ],
      "execution_count": 39,
      "outputs": [
        {
          "output_type": "stream",
          "text": [
            "Requirement already satisfied: tensorflow-gpu in /usr/local/lib/python3.6/dist-packages (2.1.0)\n",
            "Requirement already satisfied: six>=1.12.0 in /usr/local/lib/python3.6/dist-packages (from tensorflow-gpu) (1.12.0)\n",
            "Requirement already satisfied: tensorflow-estimator<2.2.0,>=2.1.0rc0 in /usr/local/lib/python3.6/dist-packages (from tensorflow-gpu) (2.1.0)\n",
            "Requirement already satisfied: termcolor>=1.1.0 in /usr/local/lib/python3.6/dist-packages (from tensorflow-gpu) (1.1.0)\n",
            "Requirement already satisfied: astor>=0.6.0 in /usr/local/lib/python3.6/dist-packages (from tensorflow-gpu) (0.8.1)\n",
            "Requirement already satisfied: tensorboard<2.2.0,>=2.1.0 in /usr/local/lib/python3.6/dist-packages (from tensorflow-gpu) (2.1.1)\n",
            "Requirement already satisfied: gast==0.2.2 in /usr/local/lib/python3.6/dist-packages (from tensorflow-gpu) (0.2.2)\n",
            "Requirement already satisfied: grpcio>=1.8.6 in /usr/local/lib/python3.6/dist-packages (from tensorflow-gpu) (1.27.2)\n",
            "Requirement already satisfied: wheel>=0.26; python_version >= \"3\" in /usr/local/lib/python3.6/dist-packages (from tensorflow-gpu) (0.34.2)\n",
            "Requirement already satisfied: absl-py>=0.7.0 in /usr/local/lib/python3.6/dist-packages (from tensorflow-gpu) (0.9.0)\n",
            "Requirement already satisfied: opt-einsum>=2.3.2 in /usr/local/lib/python3.6/dist-packages (from tensorflow-gpu) (3.2.0)\n",
            "Requirement already satisfied: scipy==1.4.1; python_version >= \"3\" in /usr/local/lib/python3.6/dist-packages (from tensorflow-gpu) (1.4.1)\n",
            "Requirement already satisfied: keras-applications>=1.0.8 in /usr/local/lib/python3.6/dist-packages (from tensorflow-gpu) (1.0.8)\n",
            "Requirement already satisfied: google-pasta>=0.1.6 in /usr/local/lib/python3.6/dist-packages (from tensorflow-gpu) (0.2.0)\n",
            "Requirement already satisfied: wrapt>=1.11.1 in /usr/local/lib/python3.6/dist-packages (from tensorflow-gpu) (1.12.1)\n",
            "Requirement already satisfied: keras-preprocessing>=1.1.0 in /usr/local/lib/python3.6/dist-packages (from tensorflow-gpu) (1.1.0)\n",
            "Requirement already satisfied: protobuf>=3.8.0 in /usr/local/lib/python3.6/dist-packages (from tensorflow-gpu) (3.10.0)\n",
            "Requirement already satisfied: numpy<2.0,>=1.16.0 in /usr/local/lib/python3.6/dist-packages (from tensorflow-gpu) (1.18.2)\n",
            "Requirement already satisfied: requests<3,>=2.21.0 in /usr/local/lib/python3.6/dist-packages (from tensorboard<2.2.0,>=2.1.0->tensorflow-gpu) (2.21.0)\n",
            "Requirement already satisfied: markdown>=2.6.8 in /usr/local/lib/python3.6/dist-packages (from tensorboard<2.2.0,>=2.1.0->tensorflow-gpu) (3.2.1)\n",
            "Requirement already satisfied: google-auth<2,>=1.6.3 in /usr/local/lib/python3.6/dist-packages (from tensorboard<2.2.0,>=2.1.0->tensorflow-gpu) (1.7.2)\n",
            "Requirement already satisfied: google-auth-oauthlib<0.5,>=0.4.1 in /usr/local/lib/python3.6/dist-packages (from tensorboard<2.2.0,>=2.1.0->tensorflow-gpu) (0.4.1)\n",
            "Requirement already satisfied: werkzeug>=0.11.15 in /usr/local/lib/python3.6/dist-packages (from tensorboard<2.2.0,>=2.1.0->tensorflow-gpu) (1.0.0)\n",
            "Requirement already satisfied: setuptools>=41.0.0 in /usr/local/lib/python3.6/dist-packages (from tensorboard<2.2.0,>=2.1.0->tensorflow-gpu) (46.0.0)\n",
            "Requirement already satisfied: h5py in /usr/local/lib/python3.6/dist-packages (from keras-applications>=1.0.8->tensorflow-gpu) (2.10.0)\n",
            "Requirement already satisfied: urllib3<1.25,>=1.21.1 in /usr/local/lib/python3.6/dist-packages (from requests<3,>=2.21.0->tensorboard<2.2.0,>=2.1.0->tensorflow-gpu) (1.24.3)\n",
            "Requirement already satisfied: chardet<3.1.0,>=3.0.2 in /usr/local/lib/python3.6/dist-packages (from requests<3,>=2.21.0->tensorboard<2.2.0,>=2.1.0->tensorflow-gpu) (3.0.4)\n",
            "Requirement already satisfied: certifi>=2017.4.17 in /usr/local/lib/python3.6/dist-packages (from requests<3,>=2.21.0->tensorboard<2.2.0,>=2.1.0->tensorflow-gpu) (2019.11.28)\n",
            "Requirement already satisfied: idna<2.9,>=2.5 in /usr/local/lib/python3.6/dist-packages (from requests<3,>=2.21.0->tensorboard<2.2.0,>=2.1.0->tensorflow-gpu) (2.8)\n",
            "Requirement already satisfied: pyasn1-modules>=0.2.1 in /usr/local/lib/python3.6/dist-packages (from google-auth<2,>=1.6.3->tensorboard<2.2.0,>=2.1.0->tensorflow-gpu) (0.2.8)\n",
            "Requirement already satisfied: rsa<4.1,>=3.1.4 in /usr/local/lib/python3.6/dist-packages (from google-auth<2,>=1.6.3->tensorboard<2.2.0,>=2.1.0->tensorflow-gpu) (4.0)\n",
            "Requirement already satisfied: cachetools<3.2,>=2.0.0 in /usr/local/lib/python3.6/dist-packages (from google-auth<2,>=1.6.3->tensorboard<2.2.0,>=2.1.0->tensorflow-gpu) (3.1.1)\n",
            "Requirement already satisfied: requests-oauthlib>=0.7.0 in /usr/local/lib/python3.6/dist-packages (from google-auth-oauthlib<0.5,>=0.4.1->tensorboard<2.2.0,>=2.1.0->tensorflow-gpu) (1.3.0)\n",
            "Requirement already satisfied: pyasn1<0.5.0,>=0.4.6 in /usr/local/lib/python3.6/dist-packages (from pyasn1-modules>=0.2.1->google-auth<2,>=1.6.3->tensorboard<2.2.0,>=2.1.0->tensorflow-gpu) (0.4.8)\n",
            "Requirement already satisfied: oauthlib>=3.0.0 in /usr/local/lib/python3.6/dist-packages (from requests-oauthlib>=0.7.0->google-auth-oauthlib<0.5,>=0.4.1->tensorboard<2.2.0,>=2.1.0->tensorflow-gpu) (3.1.0)\n"
          ],
          "name": "stdout"
        }
      ]
    },
    {
      "cell_type": "code",
      "metadata": {
        "id": "4czHNQX2WEQp",
        "colab_type": "code",
        "colab": {}
      },
      "source": [
        "import tensorflow as tf\n",
        "from tensorflow.keras import Sequential\n",
        "from tensorflow.keras.layers import Flatten,Dense,Conv2D,MaxPool2D,ZeroPadding2D,Dropout,BatchNormalization\n",
        "from tensorflow.keras.preprocessing.image import ImageDataGenerator\n",
        "from tensorflow.keras.optimizers import SGD"
      ],
      "execution_count": 0,
      "outputs": []
    },
    {
      "cell_type": "code",
      "metadata": {
        "id": "faEXP3QwR2RG",
        "colab_type": "code",
        "colab": {}
      },
      "source": [
        "!rm -rf /content/dogvscat"
      ],
      "execution_count": 0,
      "outputs": []
    },
    {
      "cell_type": "code",
      "metadata": {
        "id": "XAEg_ZrNI1g2",
        "colab_type": "code",
        "colab": {
          "base_uri": "https://localhost:8080/",
          "height": 151
        },
        "outputId": "de6b469b-06ae-457d-a6d4-6ee3afc2335c"
      },
      "source": [
        "!git clone https://github.com/yyynbone/dogvscat"
      ],
      "execution_count": 44,
      "outputs": [
        {
          "output_type": "stream",
          "text": [
            "Cloning into 'dogvscat'...\n",
            "remote: Enumerating objects: 6, done.\u001b[K\n",
            "remote: Counting objects:  16% (1/6)\u001b[K\rremote: Counting objects:  33% (2/6)\u001b[K\rremote: Counting objects:  50% (3/6)\u001b[K\rremote: Counting objects:  66% (4/6)\u001b[K\rremote: Counting objects:  83% (5/6)\u001b[K\rremote: Counting objects: 100% (6/6)\u001b[K\rremote: Counting objects: 100% (6/6), done.\u001b[K\n",
            "remote: Compressing objects: 100% (5/5), done.\u001b[K\n",
            "remote: Total 37416 (delta 0), reused 5 (delta 0), pack-reused 37410\u001b[K\n",
            "Receiving objects: 100% (37416/37416), 810.40 MiB | 43.06 MiB/s, done.\n",
            "Resolving deltas: 100% (3/3), done.\n",
            "Checking out files: 100% (37500/37500), done.\n"
          ],
          "name": "stdout"
        }
      ]
    },
    {
      "cell_type": "code",
      "metadata": {
        "id": "vClIxD5yWEZx",
        "colab_type": "code",
        "colab": {}
      },
      "source": [
        "test_dir=\"/content/dogvscat/data/test\"\n",
        "train_dir=\"/content/dogvscat/data/train\"\n",
        "img_width=32\n",
        "img_height=32\n",
        "batch_size=50"
      ],
      "execution_count": 0,
      "outputs": []
    },
    {
      "cell_type": "code",
      "metadata": {
        "id": "E5H69ir4WEcY",
        "colab_type": "code",
        "colab": {}
      },
      "source": [
        "datagen=ImageDataGenerator(rescale=1./255)"
      ],
      "execution_count": 0,
      "outputs": []
    },
    {
      "cell_type": "code",
      "metadata": {
        "id": "xyQ0uPtTWEfq",
        "colab_type": "code",
        "outputId": "65fd4565-fbc8-4875-c2b5-ef084e5afd9d",
        "colab": {
          "base_uri": "https://localhost:8080/",
          "height": 34
        }
      },
      "source": [
        "train_generator=datagen.flow_from_directory(directory=train_dir,target_size=(img_width,img_height),classes=[\"cats\",\"dogs\"],batch_size=batch_size,color_mode=\"rgb\",class_mode=\"binary\")"
      ],
      "execution_count": 47,
      "outputs": [
        {
          "output_type": "stream",
          "text": [
            "Found 25000 images belonging to 2 classes.\n"
          ],
          "name": "stdout"
        }
      ]
    },
    {
      "cell_type": "code",
      "metadata": {
        "id": "bu64NvYXgnBv",
        "colab_type": "code",
        "outputId": "409d8633-50ce-4255-c19f-7485155a736c",
        "colab": {
          "base_uri": "https://localhost:8080/",
          "height": 34
        }
      },
      "source": [
        "train_generator.classes"
      ],
      "execution_count": 48,
      "outputs": [
        {
          "output_type": "execute_result",
          "data": {
            "text/plain": [
              "array([0, 0, 0, ..., 1, 1, 1], dtype=int32)"
            ]
          },
          "metadata": {
            "tags": []
          },
          "execution_count": 48
        }
      ]
    },
    {
      "cell_type": "code",
      "metadata": {
        "id": "QWtaZcYsgnMe",
        "colab_type": "code",
        "outputId": "58b393ea-dfe8-40c3-c758-645172cfef72",
        "colab": {
          "base_uri": "https://localhost:8080/",
          "height": 34
        }
      },
      "source": [
        "len(train_generator) ##test图片数/batch_size "
      ],
      "execution_count": 49,
      "outputs": [
        {
          "output_type": "execute_result",
          "data": {
            "text/plain": [
              "500"
            ]
          },
          "metadata": {
            "tags": []
          },
          "execution_count": 49
        }
      ]
    },
    {
      "cell_type": "code",
      "metadata": {
        "id": "9w6PwfMAL0qv",
        "colab_type": "code",
        "outputId": "9b9f3fbe-7f49-4774-8df6-7d83065ce3c7",
        "colab": {
          "base_uri": "https://localhost:8080/",
          "height": 34
        }
      },
      "source": [
        "test_generator=datagen.flow_from_directory(test_dir,target_size=(img_width,img_height),classes=[\"cats\",\"dogs\"],batch_size=batch_size,color_mode=\"rgb\",class_mode=\"binary\")"
      ],
      "execution_count": 51,
      "outputs": [
        {
          "output_type": "stream",
          "text": [
            "Found 223 images belonging to 2 classes.\n"
          ],
          "name": "stdout"
        }
      ]
    },
    {
      "cell_type": "markdown",
      "metadata": {
        "id": "0ZmJEGalquxM",
        "colab_type": "text"
      },
      "source": [
        "## Build CNN Base Model"
      ]
    },
    {
      "cell_type": "code",
      "metadata": {
        "id": "LGLU7Ajuq1Rn",
        "colab_type": "code",
        "colab": {}
      },
      "source": [
        "model=Sequential()\n",
        "model.add(Conv2D(64,3,padding=\"same\",activation=\"relu\",kernel_initializer=\"he_uniform\",input_shape=(img_width,img_height,3)))\n",
        "model.add(MaxPool2D(2,2))\n",
        "\n",
        "model.add(Flatten())\n",
        "model.add(Dense(128,activation=\"relu\",kernel_initializer=\"he_uniform\"))\n",
        "model.add(Dense(1,activation=\"sigmoid\"))"
      ],
      "execution_count": 0,
      "outputs": []
    },
    {
      "cell_type": "code",
      "metadata": {
        "id": "5JGSbekzLr2M",
        "colab_type": "code",
        "outputId": "c648332f-4c44-4e42-d584-f57a35706465",
        "colab": {
          "base_uri": "https://localhost:8080/",
          "height": 319
        }
      },
      "source": [
        "model.summary()"
      ],
      "execution_count": 53,
      "outputs": [
        {
          "output_type": "stream",
          "text": [
            "Model: \"sequential_2\"\n",
            "_________________________________________________________________\n",
            "Layer (type)                 Output Shape              Param #   \n",
            "=================================================================\n",
            "conv2d_2 (Conv2D)            (None, 32, 32, 64)        1792      \n",
            "_________________________________________________________________\n",
            "max_pooling2d_2 (MaxPooling2 (None, 16, 16, 64)        0         \n",
            "_________________________________________________________________\n",
            "flatten_2 (Flatten)          (None, 16384)             0         \n",
            "_________________________________________________________________\n",
            "dense_4 (Dense)              (None, 128)               2097280   \n",
            "_________________________________________________________________\n",
            "dense_5 (Dense)              (None, 1)                 129       \n",
            "=================================================================\n",
            "Total params: 2,099,201\n",
            "Trainable params: 2,099,201\n",
            "Non-trainable params: 0\n",
            "_________________________________________________________________\n"
          ],
          "name": "stdout"
        }
      ]
    },
    {
      "cell_type": "code",
      "metadata": {
        "id": "9M-2YI1csNu3",
        "colab_type": "code",
        "colab": {}
      },
      "source": [
        "opt=SGD(learning_rate=0.01,momentum=0.9)\n",
        "model.compile(optimizer=opt,loss=\"binary_crossentropy\",metrics=[\"accuracy\"])"
      ],
      "execution_count": 0,
      "outputs": []
    },
    {
      "cell_type": "code",
      "metadata": {
        "id": "CY0ohCvLs_vP",
        "colab_type": "code",
        "outputId": "19d4752b-a739-44e2-d2e9-0d53d36ae67f",
        "colab": {
          "base_uri": "https://localhost:8080/",
          "height": 672
        }
      },
      "source": [
        "history = model.fit_generator(train_generator,steps_per_epoch=len(train_generator),epochs=15,verbose=1,validation_data=test_generator,validation_steps=len(test_generator))"
      ],
      "execution_count": 55,
      "outputs": [
        {
          "output_type": "stream",
          "text": [
            "WARNING:tensorflow:sample_weight modes were coerced from\n",
            "  ...\n",
            "    to  \n",
            "  ['...']\n",
            "WARNING:tensorflow:sample_weight modes were coerced from\n",
            "  ...\n",
            "    to  \n",
            "  ['...']\n",
            "Train for 500 steps, validate for 5 steps\n",
            "Epoch 1/15\n",
            "500/500 [==============================] - 97s 195ms/step - loss: 0.6807 - accuracy: 0.5769 - val_loss: 0.6308 - val_accuracy: 0.6457\n",
            "Epoch 2/15\n",
            "500/500 [==============================] - 96s 192ms/step - loss: 0.6349 - accuracy: 0.6368 - val_loss: 0.6572 - val_accuracy: 0.6099\n",
            "Epoch 3/15\n",
            "500/500 [==============================] - 95s 190ms/step - loss: 0.5567 - accuracy: 0.7189 - val_loss: 0.5845 - val_accuracy: 0.7175\n",
            "Epoch 4/15\n",
            "500/500 [==============================] - 96s 191ms/step - loss: 0.5100 - accuracy: 0.7546 - val_loss: 0.5950 - val_accuracy: 0.6816\n",
            "Epoch 5/15\n",
            "500/500 [==============================] - 95s 190ms/step - loss: 0.4780 - accuracy: 0.7732 - val_loss: 0.5893 - val_accuracy: 0.7309\n",
            "Epoch 6/15\n",
            "500/500 [==============================] - 97s 194ms/step - loss: 0.4481 - accuracy: 0.7880 - val_loss: 0.5542 - val_accuracy: 0.7309\n",
            "Epoch 7/15\n",
            "500/500 [==============================] - 96s 191ms/step - loss: 0.4184 - accuracy: 0.8084 - val_loss: 0.5441 - val_accuracy: 0.7399\n",
            "Epoch 8/15\n",
            "500/500 [==============================] - 95s 190ms/step - loss: 0.3926 - accuracy: 0.8204 - val_loss: 0.5273 - val_accuracy: 0.7220\n",
            "Epoch 9/15\n",
            "500/500 [==============================] - 96s 191ms/step - loss: 0.3576 - accuracy: 0.8425 - val_loss: 0.5703 - val_accuracy: 0.7354\n",
            "Epoch 10/15\n",
            "500/500 [==============================] - 95s 191ms/step - loss: 0.3238 - accuracy: 0.8585 - val_loss: 0.5925 - val_accuracy: 0.7265\n",
            "Epoch 11/15\n",
            "500/500 [==============================] - 95s 190ms/step - loss: 0.2810 - accuracy: 0.8810 - val_loss: 0.6429 - val_accuracy: 0.7265\n",
            "Epoch 12/15\n",
            "500/500 [==============================] - 95s 190ms/step - loss: 0.2519 - accuracy: 0.8944 - val_loss: 0.5942 - val_accuracy: 0.7489\n",
            "Epoch 13/15\n",
            "500/500 [==============================] - 96s 192ms/step - loss: 0.2033 - accuracy: 0.9185 - val_loss: 0.8639 - val_accuracy: 0.7220\n",
            "Epoch 14/15\n",
            "500/500 [==============================] - 97s 193ms/step - loss: 0.1712 - accuracy: 0.9320 - val_loss: 0.7394 - val_accuracy: 0.7085\n",
            "Epoch 15/15\n",
            "500/500 [==============================] - 97s 194ms/step - loss: 0.1281 - accuracy: 0.9535 - val_loss: 0.9081 - val_accuracy: 0.7399\n"
          ],
          "name": "stdout"
        }
      ]
    },
    {
      "cell_type": "code",
      "metadata": {
        "id": "b-54Z8G1tABB",
        "colab_type": "code",
        "colab": {}
      },
      "source": [
        "import matplotlib.pyplot as plt\n",
        "def plot_acc_loss(history):\n",
        "  plt.plot(history.history[\"accuracy\"])\n",
        "  plt.plot(history.history[\"val_accuracy\"])\n",
        "  plt.title(\"accuracy\")\n",
        "  plt.xlabel(\"epochs\")\n",
        "  plt.ylabel(\"accuracy\")\n",
        "  plt.legend([\"accuracy\",\"val_accu\"])\n",
        "  plt.show()\n",
        "\n",
        "  plt.plot(history.history[\"loss\"])\n",
        "  plt.plot(history.history[\"val_loss\"])\n",
        "  plt.title(\"loss\")\n",
        "  plt.xlabel(\"epochs\")\n",
        "  plt.ylabel(\"loss\")\n",
        "  plt.legend([\"loss\",\"val_loss\"])\n",
        "  plt.show()"
      ],
      "execution_count": 0,
      "outputs": []
    },
    {
      "cell_type": "code",
      "metadata": {
        "id": "ahholP0OFpLL",
        "colab_type": "code",
        "colab": {
          "base_uri": "https://localhost:8080/",
          "height": 573
        },
        "outputId": "04b13f20-4b95-4bd4-bd67-89117e9da6f9"
      },
      "source": [
        "plot_acc_loss(history)"
      ],
      "execution_count": 57,
      "outputs": [
        {
          "output_type": "display_data",
          "data": {
            "image/png": "[encoded data removed]",
            "text/plain": [
              "<Figure size 432x288 with 1 Axes>"
            ]
          },
          "metadata": {
            "tags": []
          }
        },
        {
          "output_type": "display_data",
          "data": {
            "image/png": "[encoded data removed]",
            "text/plain": [
              "<Figure size 432x288 with 1 Axes>"
            ]
          },
          "metadata": {
            "tags": []
          }
        }
      ]
    },
    {
      "cell_type": "code",
      "metadata": {
        "id": "-znS0h-QY83A",
        "colab_type": "code",
        "colab": {
          "base_uri": "https://localhost:8080/",
          "height": 34
        },
        "outputId": "75b3c652-03fc-4f01-bf6d-cde9a374eae9"
      },
      "source": [
        "train_generator"
      ],
      "execution_count": 58,
      "outputs": [
        {
          "output_type": "execute_result",
          "data": {
            "text/plain": [
              "<keras_preprocessing.image.directory_iterator.DirectoryIterator at 0x7f31590fa358>"
            ]
          },
          "metadata": {
            "tags": []
          },
          "execution_count": 58
        }
      ]
    },
    {
      "cell_type": "code",
      "metadata": {
        "id": "UkCsJJWMZB6r",
        "colab_type": "code",
        "colab": {
          "base_uri": "https://localhost:8080/",
          "height": 1000
        },
        "outputId": "52ac3305-e2bd-41f3-b7dd-245cb53113aa"
      },
      "source": [
        "train_generator[0]"
      ],
      "execution_count": 59,
      "outputs": [
        {
          "output_type": "execute_result",
          "data": {
            "text/plain": [
              "(array([[[[0.5647059 , 0.59607846, 0.64705884],\n",
              "          [0.5137255 , 0.54509807, 0.59607846],\n",
              "          [0.53333336, 0.5647059 , 0.6156863 ],\n",
              "          ...,\n",
              "          [0.3647059 , 0.37254903, 0.41960788],\n",
              "          [0.36862746, 0.37647063, 0.42352945],\n",
              "          [0.37254903, 0.3647059 , 0.4156863 ]],\n",
              " \n",
              "         [[0.50980395, 0.5411765 , 0.5921569 ],\n",
              "          [0.4901961 , 0.52156866, 0.57254905],\n",
              "          [0.4431373 , 0.47450984, 0.5254902 ],\n",
              "          ...,\n",
              "          [0.30588236, 0.29803923, 0.34901962],\n",
              "          [0.30588236, 0.29803923, 0.34901962],\n",
              "          [0.31764707, 0.30980393, 0.36078432]],\n",
              " \n",
              "         [[0.34901962, 0.3803922 , 0.43137258],\n",
              "          [0.34117648, 0.37254903, 0.42352945],\n",
              "          [0.40000004, 0.43137258, 0.48235297],\n",
              "          ...,\n",
              "          [0.25882354, 0.23529413, 0.2901961 ],\n",
              "          [0.25882354, 0.23529413, 0.2901961 ],\n",
              "          [0.27058825, 0.2627451 , 0.3137255 ]],\n",
              " \n",
              "         ...,\n",
              " \n",
              "         [[0.95294124, 0.909804  , 0.92549026],\n",
              "          [0.7411765 , 0.7058824 , 0.7176471 ],\n",
              "          [0.7294118 , 0.7058824 , 0.7137255 ],\n",
              "          ...,\n",
              "          [0.33333334, 0.2901961 , 0.3137255 ],\n",
              "          [0.20784315, 0.18039216, 0.20784315],\n",
              "          [0.4156863 , 0.37254903, 0.39607847]],\n",
              " \n",
              "         [[0.19215688, 0.16862746, 0.1764706 ],\n",
              "          [0.29411766, 0.24705884, 0.2627451 ],\n",
              "          [0.28235295, 0.21568629, 0.2392157 ],\n",
              "          ...,\n",
              "          [0.24705884, 0.21176472, 0.21568629],\n",
              "          [0.29803923, 0.27450982, 0.28235295],\n",
              "          [0.34509805, 0.3019608 , 0.3254902 ]],\n",
              " \n",
              "         [[0.41176474, 0.41960788, 0.4156863 ],\n",
              "          [0.41960788, 0.427451  , 0.4156863 ],\n",
              "          [0.45098042, 0.46274513, 0.43529415],\n",
              "          ...,\n",
              "          [0.22352943, 0.20000002, 0.20000002],\n",
              "          [0.22352943, 0.21568629, 0.227451  ],\n",
              "          [0.34509805, 0.33333334, 0.36078432]]],\n",
              " \n",
              " \n",
              "        [[[0.18039216, 0.16862746, 0.13333334],\n",
              "          [0.60784316, 0.64705884, 0.6431373 ],\n",
              "          [0.39607847, 0.4039216 , 0.36078432],\n",
              "          ...,\n",
              "          [0.5176471 , 0.5254902 , 0.5137255 ],\n",
              "          [0.49411768, 0.49411768, 0.48627454],\n",
              "          [0.48627454, 0.4901961 , 0.47058827]],\n",
              " \n",
              "         [[0.95294124, 0.95294124, 0.9450981 ],\n",
              "          [0.20784315, 0.17254902, 0.13725491],\n",
              "          [0.20784315, 0.17254902, 0.13725491],\n",
              "          ...,\n",
              "          [0.48627454, 0.48627454, 0.4784314 ],\n",
              "          [0.47058827, 0.47058827, 0.46274513],\n",
              "          [0.42352945, 0.4431373 , 0.4156863 ]],\n",
              " \n",
              "         [[0.18431373, 0.14509805, 0.09803922],\n",
              "          [0.21176472, 0.1764706 , 0.14117648],\n",
              "          [0.21568629, 0.18039216, 0.14509805],\n",
              "          ...,\n",
              "          [0.58431375, 0.5921569 , 0.5372549 ],\n",
              "          [0.40784317, 0.41176474, 0.38823533],\n",
              "          [0.41960788, 0.41176474, 0.36078432]],\n",
              " \n",
              "         ...,\n",
              " \n",
              "         [[0.3019608 , 0.2784314 , 0.22352943],\n",
              "          [0.94117653, 0.9843138 , 0.95294124],\n",
              "          [0.9333334 , 0.91372555, 0.89019614],\n",
              "          ...,\n",
              "          [0.23529413, 0.20000002, 0.17254902],\n",
              "          [0.27058825, 0.227451  , 0.21176472],\n",
              "          [0.28235295, 0.24705884, 0.227451  ]],\n",
              " \n",
              "         [[0.47450984, 0.43529415, 0.39607847],\n",
              "          [0.32156864, 0.2784314 , 0.20000002],\n",
              "          [0.8941177 , 0.8745099 , 0.85098046],\n",
              "          ...,\n",
              "          [0.29411766, 0.25882354, 0.23137257],\n",
              "          [0.2901961 , 0.2509804 , 0.20392159],\n",
              "          [0.30588236, 0.27450982, 0.22352943]],\n",
              " \n",
              "         [[0.37647063, 0.3254902 , 0.2509804 ],\n",
              "          [0.3803922 , 0.3254902 , 0.3137255 ],\n",
              "          [0.53333336, 0.50980395, 0.50980395],\n",
              "          ...,\n",
              "          [0.2784314 , 0.26666668, 0.2392157 ],\n",
              "          [0.3019608 , 0.30588236, 0.28235295],\n",
              "          [0.8980393 , 0.90196085, 0.909804  ]]],\n",
              " \n",
              " \n",
              "        [[[0.61960787, 0.5921569 , 0.56078434],\n",
              "          [0.654902  , 0.627451  , 0.59607846],\n",
              "          [0.68235296, 0.654902  , 0.62352943],\n",
              "          ...,\n",
              "          [0.34117648, 0.30980393, 0.26666668],\n",
              "          [0.2627451 , 0.22352943, 0.18431373],\n",
              "          [0.34509805, 0.30980393, 0.27450982]],\n",
              " \n",
              "         [[0.65882355, 0.6313726 , 0.6       ],\n",
              "          [0.69803923, 0.67058825, 0.6392157 ],\n",
              "          [0.7137255 , 0.6862745 , 0.654902  ],\n",
              "          ...,\n",
              "          [0.38823533, 0.3137255 , 0.24705884],\n",
              "          [0.32941177, 0.27450982, 0.22352943],\n",
              "          [0.2784314 , 0.2392157 , 0.19215688]],\n",
              " \n",
              "         [[0.7019608 , 0.6666667 , 0.6313726 ],\n",
              "          [0.7372549 , 0.7019608 , 0.6666667 ],\n",
              "          [0.7254902 , 0.6901961 , 0.654902  ],\n",
              "          ...,\n",
              "          [0.41176474, 0.2901961 , 0.18039216],\n",
              "          [0.47058827, 0.3529412 , 0.25882354],\n",
              "          [0.3372549 , 0.2627451 , 0.20392159]],\n",
              " \n",
              "         ...,\n",
              " \n",
              "         [[1.        , 1.        , 1.        ],\n",
              "          [1.        , 1.        , 1.        ],\n",
              "          [1.        , 1.        , 1.        ],\n",
              "          ...,\n",
              "          [0.9686275 , 0.9725491 , 0.9176471 ],\n",
              "          [0.9803922 , 0.9568628 , 0.90196085],\n",
              "          [0.8941177 , 0.8705883 , 0.8235295 ]],\n",
              " \n",
              "         [[0.95294124, 0.95294124, 0.95294124],\n",
              "          [0.9960785 , 0.9960785 , 0.9960785 ],\n",
              "          [1.        , 1.        , 1.        ],\n",
              "          ...,\n",
              "          [0.9568628 , 0.9607844 , 0.9058824 ],\n",
              "          [0.9568628 , 0.9333334 , 0.8705883 ],\n",
              "          [0.6313726 , 0.6039216 , 0.5647059 ]],\n",
              " \n",
              "         [[0.7137255 , 0.7019608 , 0.6745098 ],\n",
              "          [0.7411765 , 0.7294118 , 0.7019608 ],\n",
              "          [0.81568635, 0.80392164, 0.77647066],\n",
              "          ...,\n",
              "          [0.9490197 , 0.95294124, 0.89019614],\n",
              "          [0.9176471 , 0.9058824 , 0.83921576],\n",
              "          [0.3254902 , 0.30588236, 0.28235295]]],\n",
              " \n",
              " \n",
              "        ...,\n",
              " \n",
              " \n",
              "        [[[0.95294124, 0.95294124, 0.95294124],\n",
              "          [0.95294124, 0.95294124, 0.95294124],\n",
              "          [0.95294124, 0.95294124, 0.95294124],\n",
              "          ...,\n",
              "          [0.29803923, 0.36078432, 0.1764706 ],\n",
              "          [0.1764706 , 0.24705884, 0.14509805],\n",
              "          [0.16862746, 0.23137257, 0.18039216]],\n",
              " \n",
              "         [[0.95294124, 0.95294124, 0.95294124],\n",
              "          [0.95294124, 0.95294124, 0.95294124],\n",
              "          [0.95294124, 0.95294124, 0.95294124],\n",
              "          ...,\n",
              "          [0.18039216, 0.227451  , 0.17254902],\n",
              "          [0.20392159, 0.27450982, 0.17254902],\n",
              "          [0.12941177, 0.19215688, 0.14117648]],\n",
              " \n",
              "         [[0.9490197 , 0.9490197 , 0.9490197 ],\n",
              "          [0.95294124, 0.95294124, 0.95294124],\n",
              "          [0.95294124, 0.95294124, 0.95294124],\n",
              "          ...,\n",
              "          [0.19607845, 0.2509804 , 0.18431373],\n",
              "          [0.07450981, 0.13333334, 0.05882353],\n",
              "          [0.15686275, 0.21568629, 0.13333334]],\n",
              " \n",
              "         ...,\n",
              " \n",
              "         [[0.07450981, 0.10196079, 0.03921569],\n",
              "          [0.05490196, 0.07843138, 0.02352941],\n",
              "          [0.00392157, 0.02745098, 0.        ],\n",
              "          ...,\n",
              "          [0.09411766, 0.14117648, 0.09411766],\n",
              "          [0.10588236, 0.15686275, 0.12156864],\n",
              "          [0.09803922, 0.14901961, 0.1137255 ]],\n",
              " \n",
              "         [[0.12156864, 0.14117648, 0.11764707],\n",
              "          [0.16078432, 0.18823531, 0.1254902 ],\n",
              "          [0.09019608, 0.11764707, 0.05490196],\n",
              "          ...,\n",
              "          [0.08627451, 0.13333334, 0.08627451],\n",
              "          [0.05490196, 0.08235294, 0.05490196],\n",
              "          [0.11764707, 0.14509805, 0.11764707]],\n",
              " \n",
              "         [[0.1137255 , 0.13725491, 0.09019608],\n",
              "          [0.04313726, 0.06666667, 0.01960784],\n",
              "          [0.03137255, 0.05490196, 0.00784314],\n",
              "          ...,\n",
              "          [0.0509804 , 0.09411766, 0.07058824],\n",
              "          [0.12156864, 0.14117648, 0.11764707],\n",
              "          [0.0627451 , 0.08235294, 0.05882353]]],\n",
              " \n",
              " \n",
              "        [[[0.8431373 , 0.8862746 , 0.8941177 ],\n",
              "          [0.8941177 , 0.93725497, 0.9450981 ],\n",
              "          [0.70980394, 0.75294125, 0.7686275 ],\n",
              "          ...,\n",
              "          [0.9450981 , 0.98823535, 0.9960785 ],\n",
              "          [0.8980393 , 0.94117653, 0.9490197 ],\n",
              "          [0.6117647 , 0.654902  , 0.67058825]],\n",
              " \n",
              "         [[0.8745099 , 0.9176471 , 0.92549026],\n",
              "          [0.7411765 , 0.7843138 , 0.79215693],\n",
              "          [0.5882353 , 0.6313726 , 0.64705884],\n",
              "          ...,\n",
              "          [0.7686275 , 0.8117648 , 0.8196079 ],\n",
              "          [0.92549026, 0.9686275 , 0.97647065],\n",
              "          [0.76470596, 0.8078432 , 0.8235295 ]],\n",
              " \n",
              "         [[0.82745105, 0.8705883 , 0.87843144],\n",
              "          [0.6862745 , 0.7294118 , 0.7372549 ],\n",
              "          [0.8470589 , 0.89019614, 0.9058824 ],\n",
              "          ...,\n",
              "          [0.854902  , 0.8980393 , 0.9058824 ],\n",
              "          [0.9686275 , 1.        , 1.        ],\n",
              "          [0.94117653, 0.9843138 , 1.        ]],\n",
              " \n",
              "         ...,\n",
              " \n",
              "         [[0.09411766, 0.05882353, 0.07058824],\n",
              "          [0.09019608, 0.05490196, 0.06666667],\n",
              "          [0.10196079, 0.05882353, 0.0509804 ],\n",
              "          ...,\n",
              "          [0.56078434, 0.627451  , 0.654902  ],\n",
              "          [0.4666667 , 0.53333336, 0.56078434],\n",
              "          [0.627451  , 0.6666667 , 0.7019608 ]],\n",
              " \n",
              "         [[0.09803922, 0.0627451 , 0.07450981],\n",
              "          [0.09803922, 0.0627451 , 0.07450981],\n",
              "          [0.09803922, 0.0509804 , 0.0509804 ],\n",
              "          ...,\n",
              "          [0.6901961 , 0.7568628 , 0.7843138 ],\n",
              "          [0.70980394, 0.77647066, 0.80392164],\n",
              "          [0.5647059 , 0.6039216 , 0.6392157 ]],\n",
              " \n",
              "         [[0.09803922, 0.0627451 , 0.06666667],\n",
              "          [0.10588236, 0.07058824, 0.07450981],\n",
              "          [0.10196079, 0.06666667, 0.07843138],\n",
              "          ...,\n",
              "          [0.627451  , 0.69411767, 0.72156864],\n",
              "          [0.50980395, 0.5764706 , 0.6039216 ],\n",
              "          [0.6156863 , 0.68235296, 0.70980394]]],\n",
              " \n",
              " \n",
              "        [[[0.03137255, 0.00784314, 0.00784314],\n",
              "          [0.01960784, 0.        , 0.        ],\n",
              "          [0.01568628, 0.01176471, 0.00392157],\n",
              "          ...,\n",
              "          [0.16078432, 0.10980393, 0.04313726],\n",
              "          [0.19215688, 0.13725491, 0.03137255],\n",
              "          [0.20000002, 0.16078432, 0.02352941]],\n",
              " \n",
              "         [[0.02745098, 0.00392157, 0.00392157],\n",
              "          [0.03529412, 0.01176471, 0.01176471],\n",
              "          [0.01568628, 0.01176471, 0.00392157],\n",
              "          ...,\n",
              "          [0.2627451 , 0.2509804 , 0.23137257],\n",
              "          [0.34901962, 0.2509804 , 0.09019608],\n",
              "          [0.37254903, 0.28627452, 0.14117648]],\n",
              " \n",
              "         [[0.01568628, 0.01960784, 0.        ],\n",
              "          [0.02745098, 0.00392157, 0.01960784],\n",
              "          [0.03529412, 0.01568628, 0.00392157],\n",
              "          ...,\n",
              "          [0.20000002, 0.24705884, 0.34117648],\n",
              "          [0.5803922 , 0.47058827, 0.3137255 ],\n",
              "          [0.63529414, 0.48627454, 0.16862746]],\n",
              " \n",
              "         ...,\n",
              " \n",
              "         [[0.5568628 , 0.37254903, 0.25490198],\n",
              "          [0.40000004, 0.2784314 , 0.19607845],\n",
              "          [0.57254905, 0.38823533, 0.3254902 ],\n",
              "          ...,\n",
              "          [0.46274513, 0.50980395, 0.57254905],\n",
              "          [0.3529412 , 0.40000004, 0.46274513],\n",
              "          [0.38431376, 0.43137258, 0.49411768]],\n",
              " \n",
              "         [[0.47058827, 0.30980393, 0.19215688],\n",
              "          [0.4666667 , 0.30980393, 0.2784314 ],\n",
              "          [0.5803922 , 0.3921569 , 0.34509805],\n",
              "          ...,\n",
              "          [0.32941177, 0.37647063, 0.43921572],\n",
              "          [0.3803922 , 0.427451  , 0.4901961 ],\n",
              "          [0.4666667 , 0.5137255 , 0.5764706 ]],\n",
              " \n",
              "         [[0.48627454, 0.34509805, 0.21960786],\n",
              "          [0.4666667 , 0.27450982, 0.2901961 ],\n",
              "          [0.50980395, 0.31764707, 0.2901961 ],\n",
              "          ...,\n",
              "          [0.34509805, 0.3921569 , 0.454902  ],\n",
              "          [0.3529412 , 0.40000004, 0.46274513],\n",
              "          [0.3647059 , 0.41176474, 0.47450984]]]], dtype=float32),\n",
              " array([0., 1., 0., 0., 1., 1., 1., 1., 0., 0., 0., 1., 0., 1., 1., 1., 0.,\n",
              "        0., 0., 1., 0., 1., 1., 1., 1., 0., 0., 1., 0., 1., 0., 1., 0., 0.,\n",
              "        1., 0., 0., 0., 0., 1., 1., 1., 0., 0., 1., 0., 1., 1., 0., 0.],\n",
              "       dtype=float32))"
            ]
          },
          "metadata": {
            "tags": []
          },
          "execution_count": 59
        }
      ]
    },
    {
      "cell_type": "code",
      "metadata": {
        "id": "pY4XD6FQZl4g",
        "colab_type": "code",
        "colab": {
          "base_uri": "https://localhost:8080/",
          "height": 34
        },
        "outputId": "dc707da9-04ff-4583-91ce-2dde8c68c4e9"
      },
      "source": [
        "(x_batch,y_batch)=train_generator[0]\n",
        "x_batch.shape"
      ],
      "execution_count": 61,
      "outputs": [
        {
          "output_type": "execute_result",
          "data": {
            "text/plain": [
              "(50, 32, 32, 3)"
            ]
          },
          "metadata": {
            "tags": []
          },
          "execution_count": 61
        }
      ]
    },
    {
      "cell_type": "markdown",
      "metadata": {
        "id": "cVmAuAiYVH5z",
        "colab_type": "text"
      },
      "source": [
        "## create vgg16 without bn and dropout"
      ]
    },
    {
      "cell_type": "code",
      "metadata": {
        "id": "DOxrEidpFpP3",
        "colab_type": "code",
        "colab": {}
      },
      "source": [
        "model=Sequential()\n",
        "model.add(Conv2D(64,3,padding=\"same\",activation=\"relu\",kernel_initializer=\"he_uniform\",input_shape=(img_width,img_height,3)))\n",
        "model.add(MaxPool2D(2,2))\n",
        "\n",
        "\n",
        "model.add(Conv2D(128,3,padding=\"same\",activation=\"relu\",kernel_initializer=\"he_uniform\"))\n",
        "model.add(MaxPool2D(2,2))\n",
        "\n",
        "\n",
        "model.add(Conv2D(256,3,padding=\"same\",activation=\"relu\",kernel_initializer=\"he_uniform\"))\n",
        "model.add(MaxPool2D(2,2))\n",
        "\n",
        "model.add(Flatten())\n",
        "model.add(Dense(128,activation=\"relu\",kernel_initializer=\"he_uniform\"))\n",
        "model.add(Dense(1,activation=\"sigmoid\"))"
      ],
      "execution_count": 0,
      "outputs": []
    },
    {
      "cell_type": "code",
      "metadata": {
        "id": "6SJsmVjVFpTF",
        "colab_type": "code",
        "colab": {
          "base_uri": "https://localhost:8080/",
          "height": 454
        },
        "outputId": "59ab5e89-7227-40aa-c103-cbc0ac29427a"
      },
      "source": [
        "model.summary()"
      ],
      "execution_count": 68,
      "outputs": [
        {
          "output_type": "stream",
          "text": [
            "Model: \"sequential_6\"\n",
            "_________________________________________________________________\n",
            "Layer (type)                 Output Shape              Param #   \n",
            "=================================================================\n",
            "conv2d_6 (Conv2D)            (None, 32, 32, 64)        1792      \n",
            "_________________________________________________________________\n",
            "max_pooling2d_6 (MaxPooling2 (None, 16, 16, 64)        0         \n",
            "_________________________________________________________________\n",
            "conv2d_7 (Conv2D)            (None, 16, 16, 128)       73856     \n",
            "_________________________________________________________________\n",
            "max_pooling2d_7 (MaxPooling2 (None, 8, 8, 128)         0         \n",
            "_________________________________________________________________\n",
            "conv2d_8 (Conv2D)            (None, 8, 8, 256)         295168    \n",
            "_________________________________________________________________\n",
            "max_pooling2d_8 (MaxPooling2 (None, 4, 4, 256)         0         \n",
            "_________________________________________________________________\n",
            "flatten_4 (Flatten)          (None, 4096)              0         \n",
            "_________________________________________________________________\n",
            "dense_8 (Dense)              (None, 128)               524416    \n",
            "_________________________________________________________________\n",
            "dense_9 (Dense)              (None, 1)                 129       \n",
            "=================================================================\n",
            "Total params: 895,361\n",
            "Trainable params: 895,361\n",
            "Non-trainable params: 0\n",
            "_________________________________________________________________\n"
          ],
          "name": "stdout"
        }
      ]
    },
    {
      "cell_type": "code",
      "metadata": {
        "id": "8tqYq5-rFpVn",
        "colab_type": "code",
        "colab": {}
      },
      "source": [
        "opt=SGD(learning_rate=0.01,momentum=0.9)\n",
        "model.compile(optimizer=opt,loss=\"binary_crossentropy\",metrics=[\"accuracy\"])"
      ],
      "execution_count": 0,
      "outputs": []
    },
    {
      "cell_type": "code",
      "metadata": {
        "id": "Z3TRu55gFpYX",
        "colab_type": "code",
        "colab": {
          "base_uri": "https://localhost:8080/",
          "height": 302
        },
        "outputId": "c938f706-e9e5-4832-cafd-b897e0cf6be7"
      },
      "source": [
        "history = model.fit_generator(train_generator,steps_per_epoch=len(train_generator),epochs=4,verbose=1,validation_data=test_generator,validation_steps=len(test_generator))"
      ],
      "execution_count": 70,
      "outputs": [
        {
          "output_type": "stream",
          "text": [
            "WARNING:tensorflow:sample_weight modes were coerced from\n",
            "  ...\n",
            "    to  \n",
            "  ['...']\n",
            "WARNING:tensorflow:sample_weight modes were coerced from\n",
            "  ...\n",
            "    to  \n",
            "  ['...']\n",
            "Train for 500 steps, validate for 5 steps\n",
            "Epoch 1/4\n",
            "500/500 [==============================] - 226s 453ms/step - loss: 0.6470 - accuracy: 0.6235 - val_loss: 0.5885 - val_accuracy: 0.6861\n",
            "Epoch 2/4\n",
            "500/500 [==============================] - 227s 455ms/step - loss: 0.5332 - accuracy: 0.7337 - val_loss: 0.5207 - val_accuracy: 0.7130\n",
            "Epoch 3/4\n",
            "500/500 [==============================] - 225s 451ms/step - loss: 0.4707 - accuracy: 0.7774 - val_loss: 0.4640 - val_accuracy: 0.7713\n",
            "Epoch 4/4\n",
            "500/500 [==============================] - 225s 449ms/step - loss: 0.4285 - accuracy: 0.8006 - val_loss: 0.4588 - val_accuracy: 0.7848\n"
          ],
          "name": "stdout"
        }
      ]
    },
    {
      "cell_type": "markdown",
      "metadata": {
        "id": "jIzUMjZ9V8Wk",
        "colab_type": "text"
      },
      "source": [
        "## create vgg16"
      ]
    },
    {
      "cell_type": "code",
      "metadata": {
        "id": "KXCajUr5Fpbo",
        "colab_type": "code",
        "colab": {}
      },
      "source": [
        "model=Sequential()\n",
        "model.add(Conv2D(64,3,padding=\"same\",activation=\"relu\",kernel_initializer=\"he_uniform\",input_shape=(img_width,img_height,3)))\n",
        "model.add(BatchNormalization())\n",
        "model.add(MaxPool2D(2,2))\n",
        "model.add(Dropout(0.2))\n",
        "\n",
        "\n",
        "model.add(Conv2D(128,3,padding=\"same\",activation=\"relu\",kernel_initializer=\"he_uniform\"))\n",
        "model.add(BatchNormalization())\n",
        "model.add(MaxPool2D(2,2))\n",
        "model.add(Dropout(0.3))\n",
        "\n",
        "\n",
        "model.add(Conv2D(256,3,padding=\"same\",activation=\"relu\",kernel_initializer=\"he_uniform\"))\n",
        "model.add(BatchNormalization())\n",
        "model.add(MaxPool2D(2,2))\n",
        "model.add(Dropout(0.5))\n",
        "\n",
        "model.add(Flatten())\n",
        "model.add(Dense(128,activation=\"relu\",kernel_initializer=\"he_uniform\"))\n",
        "model.add(BatchNormalization())\n",
        "model.add(Dropout(0.5))\n",
        "model.add(Dense(1,activation=\"sigmoid\"))"
      ],
      "execution_count": 0,
      "outputs": []
    },
    {
      "cell_type": "code",
      "metadata": {
        "id": "C4eJT7gCWyxS",
        "colab_type": "code",
        "colab": {
          "base_uri": "https://localhost:8080/",
          "height": 722
        },
        "outputId": "0ae9ef46-490c-4f9f-e4c4-964b89540a10"
      },
      "source": [
        "model.summary()"
      ],
      "execution_count": 72,
      "outputs": [
        {
          "output_type": "stream",
          "text": [
            "Model: \"sequential_7\"\n",
            "_________________________________________________________________\n",
            "Layer (type)                 Output Shape              Param #   \n",
            "=================================================================\n",
            "conv2d_9 (Conv2D)            (None, 32, 32, 64)        1792      \n",
            "_________________________________________________________________\n",
            "batch_normalization (BatchNo (None, 32, 32, 64)        256       \n",
            "_________________________________________________________________\n",
            "max_pooling2d_9 (MaxPooling2 (None, 16, 16, 64)        0         \n",
            "_________________________________________________________________\n",
            "dropout (Dropout)            (None, 16, 16, 64)        0         \n",
            "_________________________________________________________________\n",
            "conv2d_10 (Conv2D)           (None, 16, 16, 128)       73856     \n",
            "_________________________________________________________________\n",
            "batch_normalization_1 (Batch (None, 16, 16, 128)       512       \n",
            "_________________________________________________________________\n",
            "max_pooling2d_10 (MaxPooling (None, 8, 8, 128)         0         \n",
            "_________________________________________________________________\n",
            "dropout_1 (Dropout)          (None, 8, 8, 128)         0         \n",
            "_________________________________________________________________\n",
            "conv2d_11 (Conv2D)           (None, 8, 8, 256)         295168    \n",
            "_________________________________________________________________\n",
            "batch_normalization_2 (Batch (None, 8, 8, 256)         1024      \n",
            "_________________________________________________________________\n",
            "max_pooling2d_11 (MaxPooling (None, 4, 4, 256)         0         \n",
            "_________________________________________________________________\n",
            "dropout_2 (Dropout)          (None, 4, 4, 256)         0         \n",
            "_________________________________________________________________\n",
            "flatten_5 (Flatten)          (None, 4096)              0         \n",
            "_________________________________________________________________\n",
            "dense_10 (Dense)             (None, 128)               524416    \n",
            "_________________________________________________________________\n",
            "batch_normalization_3 (Batch (None, 128)               512       \n",
            "_________________________________________________________________\n",
            "dropout_3 (Dropout)          (None, 128)               0         \n",
            "_________________________________________________________________\n",
            "dense_11 (Dense)             (None, 1)                 129       \n",
            "=================================================================\n",
            "Total params: 897,665\n",
            "Trainable params: 896,513\n",
            "Non-trainable params: 1,152\n",
            "_________________________________________________________________\n"
          ],
          "name": "stdout"
        }
      ]
    },
    {
      "cell_type": "code",
      "metadata": {
        "id": "CX_2rkEkW6zn",
        "colab_type": "code",
        "colab": {}
      },
      "source": [
        "opt=SGD(learning_rate=0.01,momentum=0.9)\n",
        "model.compile(optimizer=opt,loss=\"binary_crossentropy\",metrics=[\"accuracy\"])"
      ],
      "execution_count": 0,
      "outputs": []
    },
    {
      "cell_type": "code",
      "metadata": {
        "id": "rBZy239-W66C",
        "colab_type": "code",
        "colab": {
          "base_uri": "https://localhost:8080/",
          "height": 370
        },
        "outputId": "3eae5790-dd67-4984-a300-1bdcecf2040e"
      },
      "source": [
        "history = model.fit_generator(train_generator,steps_per_epoch=len(train_generator),epochs=6,verbose=1,validation_data=test_generator,validation_steps=len(test_generator))"
      ],
      "execution_count": 74,
      "outputs": [
        {
          "output_type": "stream",
          "text": [
            "WARNING:tensorflow:sample_weight modes were coerced from\n",
            "  ...\n",
            "    to  \n",
            "  ['...']\n",
            "WARNING:tensorflow:sample_weight modes were coerced from\n",
            "  ...\n",
            "    to  \n",
            "  ['...']\n",
            "Train for 500 steps, validate for 5 steps\n",
            "Epoch 1/6\n",
            "500/500 [==============================] - 264s 527ms/step - loss: 0.6415 - accuracy: 0.6555 - val_loss: 0.5505 - val_accuracy: 0.7130\n",
            "Epoch 2/6\n",
            "500/500 [==============================] - 259s 519ms/step - loss: 0.5675 - accuracy: 0.7080 - val_loss: 0.5153 - val_accuracy: 0.7578\n",
            "Epoch 3/6\n",
            "500/500 [==============================] - 258s 517ms/step - loss: 0.5271 - accuracy: 0.7407 - val_loss: 0.5257 - val_accuracy: 0.7175\n",
            "Epoch 4/6\n",
            "500/500 [==============================] - 258s 515ms/step - loss: 0.4964 - accuracy: 0.7612 - val_loss: 0.5718 - val_accuracy: 0.7040\n",
            "Epoch 5/6\n",
            "500/500 [==============================] - 251s 502ms/step - loss: 0.4758 - accuracy: 0.7711 - val_loss: 0.4934 - val_accuracy: 0.7892\n",
            "Epoch 6/6\n",
            "500/500 [==============================] - 253s 506ms/step - loss: 0.4578 - accuracy: 0.7839 - val_loss: 0.4288 - val_accuracy: 0.7937\n"
          ],
          "name": "stdout"
        }
      ]
    },
    {
      "cell_type": "code",
      "metadata": {
        "id": "JO8ON31Tf182",
        "colab_type": "code",
        "colab": {
          "base_uri": "https://localhost:8080/",
          "height": 252
        },
        "outputId": "940ffbaa-d99e-4181-9402-46693fc6a162"
      },
      "source": [
        "model.fit_generator(train_generator,steps_per_epoch=len(train_generator),epochs=2,verbose=1,validation_data=test_generator,validation_steps=len(test_generator))"
      ],
      "execution_count": 75,
      "outputs": [
        {
          "output_type": "stream",
          "text": [
            "WARNING:tensorflow:sample_weight modes were coerced from\n",
            "  ...\n",
            "    to  \n",
            "  ['...']\n",
            "WARNING:tensorflow:sample_weight modes were coerced from\n",
            "  ...\n",
            "    to  \n",
            "  ['...']\n",
            "Train for 500 steps, validate for 5 steps\n",
            "Epoch 1/2\n",
            "500/500 [==============================] - 255s 511ms/step - loss: 0.4435 - accuracy: 0.7930 - val_loss: 0.5606 - val_accuracy: 0.7309\n",
            "Epoch 2/2\n",
            "500/500 [==============================] - 256s 513ms/step - loss: 0.4280 - accuracy: 0.8020 - val_loss: 0.3894 - val_accuracy: 0.8117\n"
          ],
          "name": "stdout"
        },
        {
          "output_type": "execute_result",
          "data": {
            "text/plain": [
              "<tensorflow.python.keras.callbacks.History at 0x7f3150104e48>"
            ]
          },
          "metadata": {
            "tags": []
          },
          "execution_count": 75
        }
      ]
    },
    {
      "cell_type": "code",
      "metadata": {
        "id": "--WTOCvFokGB",
        "colab_type": "code",
        "colab": {
          "base_uri": "https://localhost:8080/",
          "height": 34
        },
        "outputId": "3745ecc6-a905-4f0d-9dd1-7dad00115e4f"
      },
      "source": [
        "!pip install pillow\n",
        "##已经用Pillow代替PIL"
      ],
      "execution_count": 84,
      "outputs": [
        {
          "output_type": "stream",
          "text": [
            "Requirement already satisfied: pillow in /usr/local/lib/python3.6/dist-packages (7.0.0)\n"
          ],
          "name": "stdout"
        }
      ]
    },
    {
      "cell_type": "code",
      "metadata": {
        "id": "ehS4ZRvmo4lA",
        "colab_type": "code",
        "colab": {
          "base_uri": "https://localhost:8080/",
          "height": 151
        },
        "outputId": "38dacec9-0aae-4404-9af6-f1f30a59478b"
      },
      "source": [
        "!pip install matplotlib"
      ],
      "execution_count": 79,
      "outputs": [
        {
          "output_type": "stream",
          "text": [
            "Requirement already satisfied: matplotlib in /usr/local/lib/python3.6/dist-packages (3.2.1)\n",
            "Requirement already satisfied: python-dateutil>=2.1 in /usr/local/lib/python3.6/dist-packages (from matplotlib) (2.8.1)\n",
            "Requirement already satisfied: kiwisolver>=1.0.1 in /usr/local/lib/python3.6/dist-packages (from matplotlib) (1.1.0)\n",
            "Requirement already satisfied: numpy>=1.11 in /usr/local/lib/python3.6/dist-packages (from matplotlib) (1.18.2)\n",
            "Requirement already satisfied: pyparsing!=2.0.4,!=2.1.2,!=2.1.6,>=2.0.1 in /usr/local/lib/python3.6/dist-packages (from matplotlib) (2.4.6)\n",
            "Requirement already satisfied: cycler>=0.10 in /usr/local/lib/python3.6/dist-packages (from matplotlib) (0.10.0)\n",
            "Requirement already satisfied: six>=1.5 in /usr/local/lib/python3.6/dist-packages (from python-dateutil>=2.1->matplotlib) (1.12.0)\n",
            "Requirement already satisfied: setuptools in /usr/local/lib/python3.6/dist-packages (from kiwisolver>=1.0.1->matplotlib) (46.0.0)\n"
          ],
          "name": "stdout"
        }
      ]
    },
    {
      "cell_type": "code",
      "metadata": {
        "id": "J2O0osHivA0M",
        "colab_type": "code",
        "colab": {
          "base_uri": "https://localhost:8080/",
          "height": 34
        },
        "outputId": "29ad57a2-c38f-4a7c-b306-e564aedaae20"
      },
      "source": [
        "!pip install numpy"
      ],
      "execution_count": 82,
      "outputs": [
        {
          "output_type": "stream",
          "text": [
            "Requirement already satisfied: numpy in /usr/local/lib/python3.6/dist-packages (1.18.2)\n"
          ],
          "name": "stdout"
        }
      ]
    },
    {
      "cell_type": "code",
      "metadata": {
        "id": "qkuCRQSKwPQz",
        "colab_type": "code",
        "colab": {
          "base_uri": "https://localhost:8080/",
          "height": 316
        },
        "outputId": "d016b666-bea4-4ed8-fa39-4fed310bbf65"
      },
      "source": [
        "import pillow\n",
        "type(pillow__version__)"
      ],
      "execution_count": 85,
      "outputs": [
        {
          "output_type": "error",
          "ename": "ModuleNotFoundError",
          "evalue": "ignored",
          "traceback": [
            "\u001b[0;31m---------------------------------------------------------------------------\u001b[0m",
            "\u001b[0;31mModuleNotFoundError\u001b[0m                       Traceback (most recent call last)",
            "\u001b[0;32m<ipython-input-85-56d39661b30f>\u001b[0m in \u001b[0;36m<module>\u001b[0;34m()\u001b[0m\n\u001b[0;32m----> 1\u001b[0;31m \u001b[0;32mimport\u001b[0m \u001b[0mpillow\u001b[0m\u001b[0;34m\u001b[0m\u001b[0;34m\u001b[0m\u001b[0m\n\u001b[0m\u001b[1;32m      2\u001b[0m \u001b[0mtype\u001b[0m\u001b[0;34m(\u001b[0m\u001b[0mpillow__version__\u001b[0m\u001b[0;34m)\u001b[0m\u001b[0;34m\u001b[0m\u001b[0;34m\u001b[0m\u001b[0m\n",
            "\u001b[0;31mModuleNotFoundError\u001b[0m: No module named 'pillow'",
            "",
            "\u001b[0;31m---------------------------------------------------------------------------\u001b[0;32m\nNOTE: If your import is failing due to a missing package, you can\nmanually install dependencies using either !pip or !apt.\n\nTo view examples of installing some common dependencies, click the\n\"Open Examples\" button below.\n\u001b[0;31m---------------------------------------------------------------------------\u001b[0m\n"
          ]
        }
      ]
    },
    {
      "cell_type": "code",
      "metadata": {
        "id": "izl33OMHwt9l",
        "colab_type": "code",
        "colab": {
          "base_uri": "https://localhost:8080/",
          "height": 34
        },
        "outputId": "f0aa76d1-a324-47fc-cacc-8c71978d19fc"
      },
      "source": [
        "from PIL import Image\n",
        "import PIL\n",
        "type(PIL.__version__)"
      ],
      "execution_count": 86,
      "outputs": [
        {
          "output_type": "execute_result",
          "data": {
            "text/plain": [
              "str"
            ]
          },
          "metadata": {
            "tags": []
          },
          "execution_count": 86
        }
      ]
    },
    {
      "cell_type": "code",
      "metadata": {
        "id": "haQ0jf1rvdIp",
        "colab_type": "code",
        "colab": {}
      },
      "source": [
        "from PIL import Image\n",
        "import numpy as np\n",
        "import matplotlib.pyplot as plt\n",
        "def checkimg2(image,model):\n",
        "    img=Image.open(image)\n",
        "    #resize 只需要两个数，（width，height）\n",
        "    imgre=img.resize((32,32),Image.ANTIALIAS)\n",
        "    data=np.array(imgre)\n",
        "    #传入的x需要4维\n",
        "    data4=data.reshape(1,32,32,3)\n",
        "    prenum=model.predict_classes(data4,batch_size=1)\n",
        "    \n",
        "    classname=['cat','dog']\n",
        "    plt.imshow(data,cmap=\"binary\") #binary 只看黑白\n",
        "    plt.xlabel(\"predict is {}\".format(prenum))\n",
        "    plt.xticks([])\n",
        "    plt.yticks([])"
      ],
      "execution_count": 0,
      "outputs": []
    },
    {
      "cell_type": "code",
      "metadata": {
        "id": "vH_5Sicczg6y",
        "colab_type": "code",
        "colab": {
          "base_uri": "https://localhost:8080/",
          "height": 262
        },
        "outputId": "8faf2214-52a3-431c-b35b-e814637ce05f"
      },
      "source": [
        "image=\"/content/test/test/200.jpg\"\n",
        "checkimg2(image,model)"
      ],
      "execution_count": 106,
      "outputs": [
        {
          "output_type": "display_data",
          "data": {
            "image/png": "[encoded data removed]",
            "text/plain": [
              "<Figure size 432x288 with 1 Axes>"
            ]
          },
          "metadata": {
            "tags": []
          }
        }
      ]
    },
    {
      "cell_type": "code",
      "metadata": {
        "id": "479JRmDRzuZr",
        "colab_type": "code",
        "colab": {
          "base_uri": "https://localhost:8080/",
          "height": 262
        },
        "outputId": "23a8446e-67ea-4f7e-fecf-5093e11615f7"
      },
      "source": [
        "image=\"/content/test/test/201.jpg\"\n",
        "checkimg2(image,model)"
      ],
      "execution_count": 107,
      "outputs": [
        {
          "output_type": "display_data",
          "data": {
            "image/png": "[encoded data removed]",
            "text/plain": [
              "<Figure size 432x288 with 1 Axes>"
            ]
          },
          "metadata": {
            "tags": []
          }
        }
      ]
    },
    {
      "cell_type": "code",
      "metadata": {
        "id": "34KuEJZEzwjx",
        "colab_type": "code",
        "colab": {
          "base_uri": "https://localhost:8080/",
          "height": 262
        },
        "outputId": "9a3ea8dd-ecb5-4635-d449-bb8dde1aa4f0"
      },
      "source": [
        "image=\"/content/test/test/202.jpg\"\n",
        "checkimg2(image,model)"
      ],
      "execution_count": 108,
      "outputs": [
        {
          "output_type": "display_data",
          "data": {
            "image/png": "[encoded data removed]",
            "text/plain": [
              "<Figure size 432x288 with 1 Axes>"
            ]
          },
          "metadata": {
            "tags": []
          }
        }
      ]
    },
    {
      "cell_type": "code",
      "metadata": {
        "id": "43at24NEzz74",
        "colab_type": "code",
        "colab": {
          "base_uri": "https://localhost:8080/",
          "height": 262
        },
        "outputId": "a4150bfa-d986-4b8a-a1e0-c8aebf7b39b9"
      },
      "source": [
        "image=\"/content/test/test/203.jpg\"\n",
        "checkimg2(image,model)"
      ],
      "execution_count": 109,
      "outputs": [
        {
          "output_type": "display_data",
          "data": {
            "image/png": "[encoded data removed]",
            "text/plain": [
              "<Figure size 432x288 with 1 Axes>"
            ]
          },
          "metadata": {
            "tags": []
          }
        }
      ]
    },
    {
      "cell_type": "code",
      "metadata": {
        "id": "NmBSQet0vdZr",
        "colab_type": "code",
        "colab": {
          "base_uri": "https://localhost:8080/",
          "height": 262
        },
        "outputId": "a590a3d3-7c51-40ec-915e-4f368f5e3155"
      },
      "source": [
        "image=\"/content/test/test/100.jpg\"\n",
        "checkimg(image,model)"
      ],
      "execution_count": 96,
      "outputs": [
        {
          "output_type": "display_data",
          "data": {
            "image/png": "[encoded data removed]",
            "text/plain": [
              "<Figure size 432x288 with 1 Axes>"
            ]
          },
          "metadata": {
            "tags": []
          }
        }
      ]
    },
    {
      "cell_type": "code",
      "metadata": {
        "id": "_jP3pMFIxx0d",
        "colab_type": "code",
        "colab": {}
      },
      "source": [
        "from PIL import Image\n",
        "import numpy as np\n",
        "import matplotlib.pyplot as plt\n",
        "def checkimg(image,model):\n",
        "    img=Image.open(image)\n",
        "    #resize 只需要两个数，（width，height）\n",
        "    imgre=img.resize((32,32),Image.ANTIALIAS)\n",
        "    data=np.array(imgre)\n",
        "    #传入的x需要4维\n",
        "    data4=data.reshape(1,32,32,3)\n",
        "    prenum=model.predict_classes(data4,batch_size=1)\n",
        "    \n",
        "    classname=['cat','dog']\n",
        "    plt.imshow(data,cmap=\"binary\") #binary 只看黑白\n",
        "    plt.xlabel(\"predict is {}\".format(classname[prenum[0][0]]))\n",
        "    plt.xticks([])\n",
        "    plt.yticks([])"
      ],
      "execution_count": 0,
      "outputs": []
    },
    {
      "cell_type": "code",
      "metadata": {
        "id": "wKwQE_McyhIC",
        "colab_type": "code",
        "colab": {
          "base_uri": "https://localhost:8080/",
          "height": 262
        },
        "outputId": "09a8c49c-c219-49a2-d400-94f780fce1a9"
      },
      "source": [
        "image=\"/content/test/test/200.jpg\"\n",
        "checkimg(image,model)"
      ],
      "execution_count": 100,
      "outputs": [
        {
          "output_type": "display_data",
          "data": {
            "image/png": "[encoded data removed]",
            "text/plain": [
              "<Figure size 432x288 with 1 Axes>"
            ]
          },
          "metadata": {
            "tags": []
          }
        }
      ]
    },
    {
      "cell_type": "code",
      "metadata": {
        "id": "-_CZoHwpzGSJ",
        "colab_type": "code",
        "colab": {
          "base_uri": "https://localhost:8080/",
          "height": 262
        },
        "outputId": "83c90c91-168b-433c-a787-9f3c2faa224a"
      },
      "source": [
        "image=\"/content/test/test/300.jpg\"\n",
        "checkimg(image,model)"
      ],
      "execution_count": 101,
      "outputs": [
        {
          "output_type": "display_data",
          "data": {
            "image/png": "[encoded data removed]",
            "text/plain": [
              "<Figure size 432x288 with 1 Axes>"
            ]
          },
          "metadata": {
            "tags": []
          }
        }
      ]
    },
    {
      "cell_type": "code",
      "metadata": {
        "id": "GJ1QuaLTzNVy",
        "colab_type": "code",
        "colab": {
          "base_uri": "https://localhost:8080/",
          "height": 262
        },
        "outputId": "5a233bd1-8d5d-4213-b2ee-bad6a4c238e5"
      },
      "source": [
        "image=\"/content/test/test/230.jpg\"\n",
        "checkimg(image,model)"
      ],
      "execution_count": 102,
      "outputs": [
        {
          "output_type": "display_data",
          "data": {
            "image/png": "[encoded data removed]",
            "text/plain": [
              "<Figure size 432x288 with 1 Axes>"
            ]
          },
          "metadata": {
            "tags": []
          }
        }
      ]
    },
    {
      "cell_type": "code",
      "metadata": {
        "id": "sIv6Yh8QzV7s",
        "colab_type": "code",
        "colab": {
          "base_uri": "https://localhost:8080/",
          "height": 262
        },
        "outputId": "60c3f7eb-d903-4809-e539-599040efe461"
      },
      "source": [
        "image=\"/content/test/test/229.jpg\"\n",
        "checkimg(image,model)"
      ],
      "execution_count": 103,
      "outputs": [
        {
          "output_type": "display_data",
          "data": {
            "image/png": "[encoded data removed]",
            "text/plain": [
              "<Figure size 432x288 with 1 Axes>"
            ]
          },
          "metadata": {
            "tags": []
          }
        }
      ]
    }
  ]
}